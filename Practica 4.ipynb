{
 "cells": [
  {
   "cell_type": "code",
   "execution_count": null,
   "id": "9aecfe27-7d46-45c3-a04e-fc6c92efdf8d",
   "metadata": {},
   "outputs": [],
   "source": []
  }
 ],
 "metadata": {
  "kernelspec": {
   "display_name": "",
   "name": ""
  },
  "language_info": {
   "name": ""
  }
 },
 "nbformat": 4,
 "nbformat_minor": 5
}
