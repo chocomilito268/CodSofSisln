{
 "cells": [
  {
   "cell_type": "code",
   "execution_count": null,
   "id": "e553e369-412c-48b2-8e20-19fdbb28e631",
   "metadata": {},
   "outputs": [],
   "source": []
  }
 ],
 "metadata": {
  "kernelspec": {
   "display_name": "",
   "name": ""
  },
  "language_info": {
   "name": ""
  }
 },
 "nbformat": 4,
 "nbformat_minor": 5
}
