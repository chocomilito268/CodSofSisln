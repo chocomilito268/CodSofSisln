{
 "cells": [
  {
   "cell_type": "code",
   "execution_count": null,
   "id": "2efaed35-7b75-4880-89b0-d36da9fd66fc",
   "metadata": {},
   "outputs": [],
   "source": []
  }
 ],
 "metadata": {
  "kernelspec": {
   "display_name": "",
   "name": ""
  },
  "language_info": {
   "name": ""
  }
 },
 "nbformat": 4,
 "nbformat_minor": 5
}
