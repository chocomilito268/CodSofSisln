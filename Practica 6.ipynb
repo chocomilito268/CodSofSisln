{
 "cells": [
  {
   "cell_type": "code",
   "execution_count": null,
   "id": "6cb62822-73a2-4f59-a8c1-f96152640aa1",
   "metadata": {},
   "outputs": [],
   "source": []
  }
 ],
 "metadata": {
  "kernelspec": {
   "display_name": "",
   "name": ""
  },
  "language_info": {
   "name": ""
  }
 },
 "nbformat": 4,
 "nbformat_minor": 5
}
